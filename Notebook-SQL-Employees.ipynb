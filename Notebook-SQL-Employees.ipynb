{
    "metadata": {
        "kernelspec": {
            "name": "SQL",
            "display_name": "SQL",
            "language": "sql"
        },
        "language_info": {
            "name": "sql",
            "version": ""
        }
    },
    "nbformat_minor": 2,
    "nbformat": 4,
    "cells": [
        {
            "cell_type": "markdown",
            "source": [
                "# Basic Select Statements\n",
                "\n",
                "## Select Employees"
            ],
            "metadata": {
                "language": "sql",
                "azdata_cell_guid": "2dd6dcc4-6f6e-4774-aea6-9829323896bc"
            },
            "attachments": {}
        },
        {
            "cell_type": "code",
            "source": [
                "/* Employee Table */\n",
                "\n",
                "SELECT TOP (1000) [EmployeeID]\n",
                "      ,[Employee Name]\n",
                "      ,[Employee Surname]\n",
                "      ,[OfficeCountry]\n",
                "      ,[Office Team]\n",
                "  FROM [Test1].[dbo].[Employees$]"
            ],
            "metadata": {
                "azdata_cell_guid": "0311fbae-d91f-4c90-9b05-967f4ddcc3c6",
                "language": "sql",
                "tags": []
            },
            "outputs": [
                {
                    "output_type": "display_data",
                    "data": {
                        "text/html": "(9 rows affected)"
                    },
                    "metadata": {}
                },
                {
                    "output_type": "display_data",
                    "data": {
                        "text/html": "Total execution time: 00:00:00.009"
                    },
                    "metadata": {}
                },
                {
                    "output_type": "execute_result",
                    "metadata": {},
                    "execution_count": 2,
                    "data": {
                        "application/vnd.dataresource+json": {
                            "schema": {
                                "fields": [
                                    {
                                        "name": "EmployeeID"
                                    },
                                    {
                                        "name": "Employee Name"
                                    },
                                    {
                                        "name": "Employee Surname"
                                    },
                                    {
                                        "name": "OfficeCountry"
                                    },
                                    {
                                        "name": "Office Team"
                                    }
                                ]
                            },
                            "data": [
                                {
                                    "0": "1",
                                    "1": "David",
                                    "2": "Bell",
                                    "3": "USA",
                                    "4": "Team Astrid"
                                },
                                {
                                    "0": "2",
                                    "1": "Andy",
                                    "2": "Brad",
                                    "3": "USA",
                                    "4": "Team Astrid"
                                },
                                {
                                    "0": "3",
                                    "1": "Jane",
                                    "2": "Bindley",
                                    "3": "USA",
                                    "4": "Team Zed"
                                },
                                {
                                    "0": "4",
                                    "1": "Margaret",
                                    "2": "Roche",
                                    "3": "USA",
                                    "4": "Team Zed"
                                },
                                {
                                    "0": "5",
                                    "1": "Kim",
                                    "2": "Hanks",
                                    "3": "UK",
                                    "4": "Team Astrid"
                                },
                                {
                                    "0": "6",
                                    "1": "Michael",
                                    "2": "Thompson",
                                    "3": "UK",
                                    "4": "Team Merlin"
                                },
                                {
                                    "0": "7",
                                    "1": "Rita",
                                    "2": "Hughes",
                                    "3": "UK",
                                    "4": "Team Merlin"
                                },
                                {
                                    "0": "8",
                                    "1": "Alex",
                                    "2": "Mendoza",
                                    "3": "USA",
                                    "4": "Team Zed"
                                },
                                {
                                    "0": "9",
                                    "1": "Sandeep",
                                    "2": "Sobit",
                                    "3": "UK",
                                    "4": "Team Merlin"
                                }
                            ]
                        },
                        "text/html": [
                            "<table>",
                            "<tr><th>EmployeeID</th><th>Employee Name</th><th>Employee Surname</th><th>OfficeCountry</th><th>Office Team</th></tr>",
                            "<tr><td>1</td><td>David</td><td>Bell</td><td>USA</td><td>Team Astrid</td></tr>",
                            "<tr><td>2</td><td>Andy</td><td>Brad</td><td>USA</td><td>Team Astrid</td></tr>",
                            "<tr><td>3</td><td>Jane</td><td>Bindley</td><td>USA</td><td>Team Zed</td></tr>",
                            "<tr><td>4</td><td>Margaret</td><td>Roche</td><td>USA</td><td>Team Zed</td></tr>",
                            "<tr><td>5</td><td>Kim</td><td>Hanks</td><td>UK</td><td>Team Astrid</td></tr>",
                            "<tr><td>6</td><td>Michael</td><td>Thompson</td><td>UK</td><td>Team Merlin</td></tr>",
                            "<tr><td>7</td><td>Rita</td><td>Hughes</td><td>UK</td><td>Team Merlin</td></tr>",
                            "<tr><td>8</td><td>Alex</td><td>Mendoza</td><td>USA</td><td>Team Zed</td></tr>",
                            "<tr><td>9</td><td>Sandeep</td><td>Sobit</td><td>UK</td><td>Team Merlin</td></tr>",
                            "</table>"
                        ]
                    }
                }
            ],
            "execution_count": 2
        },
        {
            "cell_type": "markdown",
            "source": [
                "## CTE Products"
            ],
            "metadata": {
                "language": "sql",
                "azdata_cell_guid": "1cb3c196-a4af-4c1f-bd83-5f51ddc78501"
            },
            "attachments": {}
        },
        {
            "cell_type": "code",
            "source": [
                "WITH CategoriesProduct as(\r\n",
                "SELECT sb.Name, sb.ProductSubcategoryID, pr.Class, pr.Color, pr.ListPrice \r\n",
                "FROM Production.Product pr, Production.ProductSubcategory sb\r\n",
                "WHERE\r\n",
                "pr.ProductSubcategoryID = sb.ProductSubcategoryID\r\n",
                ")\r\n",
                "select Name, Class, Color, ListPrice\r\n",
                "FROM CategoriesProduct\r\n",
                "WHERE\r\n",
                "CategoriesProduct.ListPrice > 200\r\n",
                "ORDER BY ListPrice ASC"
            ],
            "metadata": {
                "azdata_cell_guid": "b5551723-6189-4f7d-9adf-71fa28424f7c",
                "language": "sql"
            },
            "outputs": [],
            "execution_count": null
        }
    ]
}